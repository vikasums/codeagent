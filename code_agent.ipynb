{
 "cells": [
  {
   "cell_type": "markdown",
   "id": "f103dfe7",
   "metadata": {},
   "source": [
    "# Import the libraries"
   ]
  },
  {
   "cell_type": "code",
   "execution_count": 9,
   "id": "683dd20d",
   "metadata": {},
   "outputs": [],
   "source": [
    "# Warning control\n",
    "import warnings\n",
    "\n",
    "warnings.filterwarnings(\"ignore\")\n",
    "\n",
    "import os\n",
    "\n",
    "from dotenv import load_dotenv\n",
    "\n",
    "_ = load_dotenv() # read local .env file\n",
    "\n",
    "from huggingface_hub import login\n",
    "\n",
    "login(os.environ['HF_API_KEY'])"
   ]
  },
  {
   "cell_type": "markdown",
   "id": "6430a35f",
   "metadata": {},
   "source": [
    "# First we make a few tools like sum and multiply"
   ]
  },
  {
   "cell_type": "code",
   "execution_count": 10,
   "id": "9d5d078a",
   "metadata": {},
   "outputs": [],
   "source": [
    "# First we make a few tools\n",
    "from smolagents import tool\n",
    "\n",
    "@tool\n",
    "def sum_two_numbers(x: int, y: int) -> int:\n",
    "    \"\"\"\n",
    "    Sum two numbers\n",
    "\n",
    "    Args:\n",
    "        x: the first number\n",
    "        y: the second number\n",
    "    \"\"\"\n",
    "    return x + y\n",
    "\n",
    "@tool\n",
    "def multiply_two_numbers(x: int, y: int) -> int:\n",
    "    \"\"\"\n",
    "    Multiply two numbers\n",
    "\n",
    "    Args:\n",
    "        x: the first number\n",
    "        y: the second number\n",
    "    \"\"\"\n",
    "    \n",
    "    return x * y"
   ]
  },
  {
   "cell_type": "markdown",
   "id": "9986744e",
   "metadata": {},
   "source": [
    "# Create CodeAgent by using HuggingFace Code Agent"
   ]
  },
  {
   "cell_type": "code",
   "execution_count": 25,
   "id": "b2aaaa6f",
   "metadata": {},
   "outputs": [],
   "source": [
    "from smolagents import HfApiModel, CodeAgent\n",
    "\n",
    "model = HfApiModel(\n",
    "    \"meta-llama/Llama-4-Scout-17B-16E-Instruct\",\n",
    "    provider=\"sambanova\", # Choose a specific inference provider\n",
    "    max_tokens=4096,\n",
    "    temperature=0.1\n",
    ")"
   ]
  },
  {
   "cell_type": "code",
   "execution_count": 26,
   "id": "99acc4fd",
   "metadata": {},
   "outputs": [],
   "source": [
    "agent = CodeAgent(\n",
    "    model=model,\n",
    "    tools=[sum_two_numbers, multiply_two_numbers],\n",
    "    max_steps=10,\n",
    "    verbosity_level=2\n",
    ")\n",
    "agent.logger.console.width=66"
   ]
  },
  {
   "cell_type": "markdown",
   "id": "d17add05",
   "metadata": {},
   "source": [
    "# Run the agent for a single task which uses the tools"
   ]
  },
  {
   "cell_type": "code",
   "execution_count": null,
   "id": "c5249e19",
   "metadata": {},
   "outputs": [],
   "source": [
    "agent.run(\n",
    "    \"\"\"Can you get me the sum of 2 and 3?\"\"\"\n",
    ")"
   ]
  },
  {
   "cell_type": "markdown",
   "id": "dc130983",
   "metadata": {},
   "source": [
    "# Run the agent for a complex task which uses the tool along with more steps"
   ]
  },
  {
   "cell_type": "code",
   "execution_count": null,
   "id": "28344f22",
   "metadata": {},
   "outputs": [],
   "source": [
    "agent.run(\n",
    "    \"\"\"Can you get me the maximum of sum of these pairs of numbers [(2, 3), (4, 5), (6, 7), (8, 9), (10, 11)]?\"\"\"\n",
    ")"
   ]
  },
  {
   "cell_type": "markdown",
   "id": "85088145",
   "metadata": {},
   "source": [
    "# Create a normal tooling agent and try running the same prompt"
   ]
  },
  {
   "cell_type": "code",
   "execution_count": 62,
   "id": "eff9f860",
   "metadata": {},
   "outputs": [],
   "source": [
    "from smolagents import ToolCallingAgent\n",
    "\n",
    "model_tool_calling = HfApiModel(\n",
    "    \"Qwen/Qwen2.5-72B-Instruct\",\n",
    "    provider=\"together\",\n",
    "    temperature=0.6\n",
    ")\n",
    "agent_tool_calling = ToolCallingAgent(\n",
    "    model=model_tool_calling,\n",
    "    tools=[sum_two_numbers, multiply_two_numbers],\n",
    "    max_steps=20,\n",
    ")\n",
    "agent_tool_calling.logger.console.width=66"
   ]
  },
  {
   "cell_type": "code",
   "execution_count": null,
   "id": "e8df22ae",
   "metadata": {},
   "outputs": [],
   "source": [
    "agent_tool_calling.run(\n",
    "    \"\"\"Can you get me the sum of 2 and 3?\"\"\"\n",
    ")"
   ]
  },
  {
   "cell_type": "code",
   "execution_count": null,
   "id": "dbd86811",
   "metadata": {},
   "outputs": [],
   "source": [
    "agent_tool_calling.run(\n",
    "    \"\"\"Can you get me the maximum of sum of these pairs of numbers [(2, 3), (4, 5), (6, 7), (8, 9), (10, 11)]?\"\"\"\n",
    ")"
   ]
  }
 ],
 "metadata": {
  "kernelspec": {
   "display_name": "venv",
   "language": "python",
   "name": "python3"
  },
  "language_info": {
   "codemirror_mode": {
    "name": "ipython",
    "version": 3
   },
   "file_extension": ".py",
   "mimetype": "text/x-python",
   "name": "python",
   "nbconvert_exporter": "python",
   "pygments_lexer": "ipython3",
   "version": "3.13.2"
  }
 },
 "nbformat": 4,
 "nbformat_minor": 5
}
